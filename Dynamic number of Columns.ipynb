{
 "cells": [
  {
   "cell_type": "code",
   "execution_count": 0,
   "metadata": {
    "application/vnd.databricks.v1+cell": {
     "cellMetadata": {
      "byteLimit": 2048000,
      "rowLimit": 10000
     },
     "inputWidgets": {},
     "nuid": "c5941cb6-bcf4-4929-9cba-fc4cd6de2b1a",
     "showTitle": false,
     "title": ""
    }
   },
   "outputs": [
    {
     "output_type": "stream",
     "name": "stdout",
     "output_type": "stream",
     "text": [
      "Wrote 93 bytes.\nOut[1]: True"
     ]
    }
   ],
   "source": [
    "# Example of Data with header\n",
    "dbutils.fs.put(\"/scenaio/DynamicColumn.csv\",\"\"\"\n",
    "id,name,loc,age,sex\n",
    "1,Shiv,Etawah,24,M\n",
    "2,Akash,Agra\n",
    "3,Mohit\n",
    "4,Alok,Delhi,28\n",
    "5,Srikant,Noida\n",
    "\"\"\",True)"
   ]
  },
  {
   "cell_type": "code",
   "execution_count": 0,
   "metadata": {
    "application/vnd.databricks.v1+cell": {
     "cellMetadata": {
      "byteLimit": 2048000,
      "rowLimit": 10000
     },
     "inputWidgets": {},
     "nuid": "d7537dce-b3df-42e9-86bf-2ab4be2f1acf",
     "showTitle": false,
     "title": ""
    }
   },
   "outputs": [
    {
     "output_type": "display_data",
     "data": {
      "text/html": [
       "<style scoped>\n",
       "  .table-result-container {\n",
       "    max-height: 300px;\n",
       "    overflow: auto;\n",
       "  }\n",
       "  table, th, td {\n",
       "    border: 1px solid black;\n",
       "    border-collapse: collapse;\n",
       "  }\n",
       "  th, td {\n",
       "    padding: 5px;\n",
       "  }\n",
       "  th {\n",
       "    text-align: left;\n",
       "  }\n",
       "</style><div class='table-result-container'><table class='table-result'><thead style='background-color: white'><tr><th>id</th><th>name</th><th>loc</th><th>age</th><th>sex</th></tr></thead><tbody><tr><td>1</td><td>Shiv</td><td>Etawah</td><td>24</td><td>M</td></tr><tr><td>2</td><td>Akash</td><td>Agra</td><td>null</td><td>null</td></tr><tr><td>3</td><td>Mohit</td><td>null</td><td>null</td><td>null</td></tr><tr><td>4</td><td>Alok</td><td>Delhi</td><td>28</td><td>null</td></tr><tr><td>5</td><td>Srikant</td><td>Noida</td><td>null</td><td>null</td></tr></tbody></table></div>"
      ]
     },
     "metadata": {
      "application/vnd.databricks.v1+output": {
       "addedWidgets": {},
       "aggData": [],
       "aggError": "",
       "aggOverflow": false,
       "aggSchema": [],
       "aggSeriesLimitReached": false,
       "aggType": "",
       "arguments": {},
       "columnCustomDisplayInfos": {},
       "data": [
        [
         "1",
         "Shiv",
         "Etawah",
         "24",
         "M"
        ],
        [
         "2",
         "Akash",
         "Agra",
         null,
         null
        ],
        [
         "3",
         "Mohit",
         null,
         null,
         null
        ],
        [
         "4",
         "Alok",
         "Delhi",
         "28",
         null
        ],
        [
         "5",
         "Srikant",
         "Noida",
         null,
         null
        ]
       ],
       "datasetInfos": [],
       "dbfsResultPath": null,
       "isJsonSchema": true,
       "metadata": {},
       "overflow": false,
       "plotOptions": {
        "customPlotOptions": {},
        "displayType": "table",
        "pivotAggregation": null,
        "pivotColumns": null,
        "xColumns": null,
        "yColumns": null
       },
       "removedWidgets": [],
       "schema": [
        {
         "metadata": "{}",
         "name": "id",
         "type": "\"string\""
        },
        {
         "metadata": "{}",
         "name": "name",
         "type": "\"string\""
        },
        {
         "metadata": "{}",
         "name": "loc",
         "type": "\"string\""
        },
        {
         "metadata": "{}",
         "name": "age",
         "type": "\"string\""
        },
        {
         "metadata": "{}",
         "name": "sex",
         "type": "\"string\""
        }
       ],
       "type": "table"
      }
     },
     "output_type": "display_data"
    }
   ],
   "source": [
    "df = spark.read.csv(\"/scenaio/DynamicColumn.csv\", header = True)\n",
    "display(df)"
   ]
  },
  {
   "cell_type": "code",
   "execution_count": 0,
   "metadata": {
    "application/vnd.databricks.v1+cell": {
     "cellMetadata": {
      "byteLimit": 2048000,
      "rowLimit": 10000
     },
     "inputWidgets": {},
     "nuid": "793da05c-228f-402a-b386-d2001cff91b3",
     "showTitle": false,
     "title": ""
    }
   },
   "outputs": [
    {
     "output_type": "stream",
     "name": "stdout",
     "output_type": "stream",
     "text": [
      "Wrote 72 bytes.\nOut[17]: True"
     ]
    }
   ],
   "source": [
    "# Example data without Header\n",
    "dbutils.fs.put(\"/scenaior/DynamicWithoutHeader.csv\",\n",
    "\"\"\"1,Shiv,Etawah,24,M\n",
    "2,Akash,Agra\n",
    "3,Mohit\n",
    "4,Alok,Delhi,28\n",
    "5,Srikant,Noida\n",
    "\"\"\",True)"
   ]
  },
  {
   "cell_type": "code",
   "execution_count": 0,
   "metadata": {
    "application/vnd.databricks.v1+cell": {
     "cellMetadata": {
      "byteLimit": 2048000,
      "rowLimit": 10000
     },
     "inputWidgets": {},
     "nuid": "3cc929f0-e879-4cb8-b395-0efa61688de5",
     "showTitle": false,
     "title": ""
    }
   },
   "outputs": [
    {
     "output_type": "display_data",
     "data": {
      "text/html": [
       "<style scoped>\n",
       "  .table-result-container {\n",
       "    max-height: 300px;\n",
       "    overflow: auto;\n",
       "  }\n",
       "  table, th, td {\n",
       "    border: 1px solid black;\n",
       "    border-collapse: collapse;\n",
       "  }\n",
       "  th, td {\n",
       "    padding: 5px;\n",
       "  }\n",
       "  th {\n",
       "    text-align: left;\n",
       "  }\n",
       "</style><div class='table-result-container'><table class='table-result'><thead style='background-color: white'><tr><th>_c0</th><th>_c1</th><th>_c2</th><th>_c3</th><th>_c4</th></tr></thead><tbody><tr><td>1</td><td>Shiv</td><td>Etawah</td><td>24</td><td>M</td></tr><tr><td>2</td><td>Akash</td><td>Agra</td><td>null</td><td>null</td></tr><tr><td>3</td><td>Mohit</td><td>null</td><td>null</td><td>null</td></tr><tr><td>4</td><td>Alok</td><td>Delhi</td><td>28</td><td>null</td></tr><tr><td>5</td><td>Srikant</td><td>Noida</td><td>null</td><td>null</td></tr></tbody></table></div>"
      ]
     },
     "metadata": {
      "application/vnd.databricks.v1+output": {
       "addedWidgets": {},
       "aggData": [],
       "aggError": "",
       "aggOverflow": false,
       "aggSchema": [],
       "aggSeriesLimitReached": false,
       "aggType": "",
       "arguments": {},
       "columnCustomDisplayInfos": {},
       "data": [
        [
         "1",
         "Shiv",
         "Etawah",
         "24",
         "M"
        ],
        [
         "2",
         "Akash",
         "Agra",
         null,
         null
        ],
        [
         "3",
         "Mohit",
         null,
         null,
         null
        ],
        [
         "4",
         "Alok",
         "Delhi",
         "28",
         null
        ],
        [
         "5",
         "Srikant",
         "Noida",
         null,
         null
        ]
       ],
       "datasetInfos": [],
       "dbfsResultPath": null,
       "isJsonSchema": true,
       "metadata": {},
       "overflow": false,
       "plotOptions": {
        "customPlotOptions": {},
        "displayType": "table",
        "pivotAggregation": null,
        "pivotColumns": null,
        "xColumns": null,
        "yColumns": null
       },
       "removedWidgets": [],
       "schema": [
        {
         "metadata": "{}",
         "name": "_c0",
         "type": "\"string\""
        },
        {
         "metadata": "{}",
         "name": "_c1",
         "type": "\"string\""
        },
        {
         "metadata": "{}",
         "name": "_c2",
         "type": "\"string\""
        },
        {
         "metadata": "{}",
         "name": "_c3",
         "type": "\"string\""
        },
        {
         "metadata": "{}",
         "name": "_c4",
         "type": "\"string\""
        }
       ],
       "type": "table"
      }
     },
     "output_type": "display_data"
    }
   ],
   "source": [
    "df1 = spark.read.csv(\"/scenaior/DynamicWithoutHeader.csv\")\n",
    "display(df1)"
   ]
  },
  {
   "cell_type": "markdown",
   "metadata": {
    "application/vnd.databricks.v1+cell": {
     "cellMetadata": {},
     "inputWidgets": {},
     "nuid": "bf65fd5c-79a5-4a63-a489-163fb402a335",
     "showTitle": false,
     "title": ""
    }
   },
   "source": [
    "For This Type of Scenaior Convert CSV file into Text file"
   ]
  },
  {
   "cell_type": "code",
   "execution_count": 0,
   "metadata": {
    "application/vnd.databricks.v1+cell": {
     "cellMetadata": {
      "byteLimit": 2048000,
      "rowLimit": 10000
     },
     "inputWidgets": {},
     "nuid": "0b9abf98-8d6a-4305-a7ac-633c7d0870df",
     "showTitle": false,
     "title": ""
    }
   },
   "outputs": [
    {
     "output_type": "display_data",
     "data": {
      "text/html": [
       "<style scoped>\n",
       "  .table-result-container {\n",
       "    max-height: 300px;\n",
       "    overflow: auto;\n",
       "  }\n",
       "  table, th, td {\n",
       "    border: 1px solid black;\n",
       "    border-collapse: collapse;\n",
       "  }\n",
       "  th, td {\n",
       "    padding: 5px;\n",
       "  }\n",
       "  th {\n",
       "    text-align: left;\n",
       "  }\n",
       "</style><div class='table-result-container'><table class='table-result'><thead style='background-color: white'><tr><th>value</th></tr></thead><tbody><tr><td>1,Shiv,Etawah,24,M</td></tr><tr><td>2,Akash,Agra</td></tr><tr><td>3,Mohit</td></tr><tr><td>4,Alok,Delhi,28</td></tr><tr><td>5,Srikant,Noida</td></tr></tbody></table></div>"
      ]
     },
     "metadata": {
      "application/vnd.databricks.v1+output": {
       "addedWidgets": {},
       "aggData": [],
       "aggError": "",
       "aggOverflow": false,
       "aggSchema": [],
       "aggSeriesLimitReached": false,
       "aggType": "",
       "arguments": {},
       "columnCustomDisplayInfos": {},
       "data": [
        [
         "1,Shiv,Etawah,24,M"
        ],
        [
         "2,Akash,Agra"
        ],
        [
         "3,Mohit"
        ],
        [
         "4,Alok,Delhi,28"
        ],
        [
         "5,Srikant,Noida"
        ]
       ],
       "datasetInfos": [],
       "dbfsResultPath": null,
       "isJsonSchema": true,
       "metadata": {},
       "overflow": false,
       "plotOptions": {
        "customPlotOptions": {},
        "displayType": "table",
        "pivotAggregation": null,
        "pivotColumns": null,
        "xColumns": null,
        "yColumns": null
       },
       "removedWidgets": [],
       "schema": [
        {
         "metadata": "{}",
         "name": "value",
         "type": "\"string\""
        }
       ],
       "type": "table"
      }
     },
     "output_type": "display_data"
    }
   ],
   "source": [
    "df1 = spark.read.text(\"/scenaior/DynamicWithoutHeader.csv\")\n",
    "display(df1)"
   ]
  },
  {
   "cell_type": "markdown",
   "metadata": {
    "application/vnd.databricks.v1+cell": {
     "cellMetadata": {},
     "inputWidgets": {},
     "nuid": "71bbf06e-998c-4081-9594-7da7f2dccdd0",
     "showTitle": false,
     "title": ""
    }
   },
   "source": [
    "Split the Data with coma delimeter\n"
   ]
  },
  {
   "cell_type": "code",
   "execution_count": 0,
   "metadata": {
    "application/vnd.databricks.v1+cell": {
     "cellMetadata": {
      "byteLimit": 2048000,
      "rowLimit": 10000
     },
     "inputWidgets": {},
     "nuid": "aec7ba51-1074-4ec5-b15e-f0b8b52f88c0",
     "showTitle": false,
     "title": ""
    }
   },
   "outputs": [
    {
     "output_type": "display_data",
     "data": {
      "text/html": [
       "<style scoped>\n",
       "  .table-result-container {\n",
       "    max-height: 300px;\n",
       "    overflow: auto;\n",
       "  }\n",
       "  table, th, td {\n",
       "    border: 1px solid black;\n",
       "    border-collapse: collapse;\n",
       "  }\n",
       "  th, td {\n",
       "    padding: 5px;\n",
       "  }\n",
       "  th {\n",
       "    text-align: left;\n",
       "  }\n",
       "</style><div class='table-result-container'><table class='table-result'><thead style='background-color: white'><tr><th>split_column</th></tr></thead><tbody><tr><td>List(1, Shiv, Etawah, 24, M)</td></tr><tr><td>List(2, Akash, Agra)</td></tr><tr><td>List(3, Mohit)</td></tr><tr><td>List(4, Alok, Delhi, 28)</td></tr><tr><td>List(5, Srikant, Noida)</td></tr></tbody></table></div>"
      ]
     },
     "metadata": {
      "application/vnd.databricks.v1+output": {
       "addedWidgets": {},
       "aggData": [],
       "aggError": "",
       "aggOverflow": false,
       "aggSchema": [],
       "aggSeriesLimitReached": false,
       "aggType": "",
       "arguments": {},
       "columnCustomDisplayInfos": {},
       "data": [
        [
         [
          "1",
          "Shiv",
          "Etawah",
          "24",
          "M"
         ]
        ],
        [
         [
          "2",
          "Akash",
          "Agra"
         ]
        ],
        [
         [
          "3",
          "Mohit"
         ]
        ],
        [
         [
          "4",
          "Alok",
          "Delhi",
          "28"
         ]
        ],
        [
         [
          "5",
          "Srikant",
          "Noida"
         ]
        ]
       ],
       "datasetInfos": [],
       "dbfsResultPath": null,
       "isJsonSchema": true,
       "metadata": {},
       "overflow": false,
       "plotOptions": {
        "customPlotOptions": {},
        "displayType": "table",
        "pivotAggregation": null,
        "pivotColumns": null,
        "xColumns": null,
        "yColumns": null
       },
       "removedWidgets": [],
       "schema": [
        {
         "metadata": "{}",
         "name": "split_column",
         "type": "{\"type\":\"array\",\"elementType\":\"string\",\"containsNull\":false}"
        }
       ],
       "type": "table"
      }
     },
     "output_type": "display_data"
    }
   ],
   "source": [
    "from pyspark.sql.functions import split, length, col, max,size\n",
    "#Split the Text Data using Split function with coma \n",
    "df2 = df1.select(split(\"value\",\",\").alias(\"split_column\"))\n",
    "display(df2)"
   ]
  },
  {
   "cell_type": "code",
   "execution_count": 0,
   "metadata": {
    "application/vnd.databricks.v1+cell": {
     "cellMetadata": {
      "byteLimit": 2048000,
      "rowLimit": 10000
     },
     "inputWidgets": {},
     "nuid": "73faa1e3-924f-4fde-afa0-70159843e681",
     "showTitle": false,
     "title": ""
    }
   },
   "outputs": [
    {
     "output_type": "stream",
     "name": "stdout",
     "output_type": "stream",
     "text": [
      "+------------------------+------------------+\n|split_column            |size(split_column)|\n+------------------------+------------------+\n|[1, Shiv, Etawah, 24, M]|5                 |\n|[2, Akash, Agra]        |3                 |\n|[3, Mohit]              |2                 |\n|[4, Alok, Delhi, 28]    |4                 |\n|[5, Srikant, Noida]     |3                 |\n+------------------------+------------------+\n\n"
     ]
    }
   ],
   "source": [
    "# find the Size of Each Column\n",
    "df2.select('split_column',size('split_column')).show(truncate=False)"
   ]
  },
  {
   "cell_type": "code",
   "execution_count": 0,
   "metadata": {
    "application/vnd.databricks.v1+cell": {
     "cellMetadata": {
      "byteLimit": 2048000,
      "rowLimit": 10000
     },
     "inputWidgets": {},
     "nuid": "2db9c14b-5e21-49b6-b979-4bdfb19572fa",
     "showTitle": false,
     "title": ""
    }
   },
   "outputs": [
    {
     "output_type": "stream",
     "name": "stdout",
     "output_type": "stream",
     "text": [
      "Out[58]: 5"
     ]
    }
   ],
   "source": [
    "# Finding the max size of Split_column \n",
    "df2.select(max(size('split_column'))).collect()[0][0]"
   ]
  },
  {
   "cell_type": "code",
   "execution_count": 0,
   "metadata": {
    "application/vnd.databricks.v1+cell": {
     "cellMetadata": {
      "byteLimit": 2048000,
      "rowLimit": 10000
     },
     "inputWidgets": {},
     "nuid": "9b8b9f11-be6f-4413-bdcf-dd6089b6f064",
     "showTitle": false,
     "title": ""
    }
   },
   "outputs": [
    {
     "output_type": "display_data",
     "data": {
      "text/html": [
       "<style scoped>\n",
       "  .table-result-container {\n",
       "    max-height: 300px;\n",
       "    overflow: auto;\n",
       "  }\n",
       "  table, th, td {\n",
       "    border: 1px solid black;\n",
       "    border-collapse: collapse;\n",
       "  }\n",
       "  th, td {\n",
       "    padding: 5px;\n",
       "  }\n",
       "  th {\n",
       "    text-align: left;\n",
       "  }\n",
       "</style><div class='table-result-container'><table class='table-result'><thead style='background-color: white'><tr><th>col0</th><th>col1</th><th>col2</th><th>col3</th><th>col4</th></tr></thead><tbody><tr><td>1</td><td>Shiv</td><td>Etawah</td><td>24</td><td>M</td></tr><tr><td>2</td><td>Akash</td><td>Agra</td><td>null</td><td>null</td></tr><tr><td>3</td><td>Mohit</td><td>null</td><td>null</td><td>null</td></tr><tr><td>4</td><td>Alok</td><td>Delhi</td><td>28</td><td>null</td></tr><tr><td>5</td><td>Srikant</td><td>Noida</td><td>null</td><td>null</td></tr></tbody></table></div>"
      ]
     },
     "metadata": {
      "application/vnd.databricks.v1+output": {
       "addedWidgets": {},
       "aggData": [],
       "aggError": "",
       "aggOverflow": false,
       "aggSchema": [],
       "aggSeriesLimitReached": false,
       "aggType": "",
       "arguments": {},
       "columnCustomDisplayInfos": {},
       "data": [
        [
         "1",
         "Shiv",
         "Etawah",
         "24",
         "M"
        ],
        [
         "2",
         "Akash",
         "Agra",
         null,
         null
        ],
        [
         "3",
         "Mohit",
         null,
         null,
         null
        ],
        [
         "4",
         "Alok",
         "Delhi",
         "28",
         null
        ],
        [
         "5",
         "Srikant",
         "Noida",
         null,
         null
        ]
       ],
       "datasetInfos": [],
       "dbfsResultPath": null,
       "isJsonSchema": true,
       "metadata": {},
       "overflow": false,
       "plotOptions": {
        "customPlotOptions": {},
        "displayType": "table",
        "pivotAggregation": null,
        "pivotColumns": null,
        "xColumns": null,
        "yColumns": null
       },
       "removedWidgets": [],
       "schema": [
        {
         "metadata": "{}",
         "name": "col0",
         "type": "\"string\""
        },
        {
         "metadata": "{}",
         "name": "col1",
         "type": "\"string\""
        },
        {
         "metadata": "{}",
         "name": "col2",
         "type": "\"string\""
        },
        {
         "metadata": "{}",
         "name": "col3",
         "type": "\"string\""
        },
        {
         "metadata": "{}",
         "name": "col4",
         "type": "\"string\""
        }
       ],
       "type": "table"
      }
     },
     "output_type": "display_data"
    }
   ],
   "source": [
    "# Getting Max Index value for generating dynamic columns using max size of items at each row.\n",
    "# Dynamically Add Columns using WithColumn \n",
    "# Drop split_Column which is not required after split into individual columns\n",
    "for i in range (df2.select(max(size('split_column'))).collect()[0][0]):\n",
    "    df2 = df2.withColumn('col'+ str(i),df2[\"split_column\"][i])\n",
    "df3 = df2.drop(\"split_column\")    \n",
    "display(df3)    "
   ]
  },
  {
   "cell_type": "code",
   "execution_count": 0,
   "metadata": {
    "application/vnd.databricks.v1+cell": {
     "cellMetadata": {},
     "inputWidgets": {},
     "nuid": "6751cdec-7515-445b-9b70-29abac78d960",
     "showTitle": false,
     "title": ""
    }
   },
   "outputs": [],
   "source": []
  },
  {
   "cell_type": "code",
   "execution_count": 0,
   "metadata": {
    "application/vnd.databricks.v1+cell": {
     "cellMetadata": {},
     "inputWidgets": {},
     "nuid": "0ad2ff5b-429b-4d3b-866c-7963bb84dd4a",
     "showTitle": false,
     "title": ""
    }
   },
   "outputs": [],
   "source": []
  }
 ],
 "metadata": {
  "application/vnd.databricks.v1+notebook": {
   "dashboards": [],
   "environmentMetadata": null,
   "language": "python",
   "notebookMetadata": {
    "pythonIndentUnit": 4
   },
   "notebookName": "Dynamic number of Columns",
   "widgets": {}
  }
 },
 "nbformat": 4,
 "nbformat_minor": 0
}
